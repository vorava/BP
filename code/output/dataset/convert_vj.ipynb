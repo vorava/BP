{
 "cells": [
  {
   "cell_type": "code",
   "execution_count": null,
   "metadata": {},
   "outputs": [],
   "source": [
    "import cv2\n",
    "import os\n",
    "import json \n",
    "\n",
    "face_cascade = cv2.CascadeClassifier()\n",
    "face_cascade.load(\"haarcascade_frontal.xml\")"
   ]
  },
  {
   "cell_type": "code",
   "execution_count": null,
   "metadata": {},
   "outputs": [],
   "source": [
    "def detect_faces(image):\n",
    "    frame_gray = cv2.cvtColor(image, cv2.COLOR_BGR2GRAY)\n",
    "    frame_gray = cv2.equalizeHist(frame_gray)\n",
    "\n",
    "    out_bboxes = []\n",
    "    faces = face_cascade.detectMultiScale(frame_gray)\n",
    "\n",
    "    for (x,y,w,h) in faces:\n",
    "        out_bboxes.append([x,y,w,h])\n",
    "    nof_detections = len(faces)\n",
    "    \n",
    "    return nof_detections, out_bboxes"
   ]
  },
  {
   "cell_type": "code",
   "execution_count": null,
   "metadata": {},
   "outputs": [],
   "source": [
    "IMAGES_PATH = \"../../api/data/workspace/aug/val/images/\"\n",
    "OUTPUT_PATH = f\"results/VJ/result_Viola_Jones.json\"\n",
    "\n",
    "images = sorted(os.listdir(IMAGES_PATH), key=lambda x: int(x.split(\".\")[0]))\n",
    "\n",
    "results = []\n",
    "\n",
    "index = 1\n",
    "ann_index = 1\n",
    "for img in images:\n",
    "    print(\"Processing file \" + str(img))\n",
    "    \n",
    "    image = cv2.imread(os.path.join(IMAGES_PATH, img))\n",
    "\n",
    "    \n",
    "    nof, out_bboxes = detect_faces(image)\n",
    "    \n",
    "            \n",
    "    for n in range(nof):\n",
    "        data = {\n",
    "            \"image_id\": index,\n",
    "            \"category_id\": 1,\n",
    "            \"bbox\": out_bboxes[n],\n",
    "            \"score\": 1.0, \n",
    "        }\n",
    "        results.append(data)\n",
    "            \n",
    "\n",
    "    \n",
    "    index +=1\n",
    "\n",
    "with open(OUTPUT_PATH, \"w\") as f:\n",
    "    json.dump(results, f)"
   ]
  }
 ],
 "metadata": {
  "language_info": {
   "name": "python"
  },
  "orig_nbformat": 4
 },
 "nbformat": 4,
 "nbformat_minor": 2
}
